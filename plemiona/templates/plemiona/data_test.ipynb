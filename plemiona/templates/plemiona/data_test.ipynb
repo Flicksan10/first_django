{
 "cells": [
  {
   "cell_type": "code",
   "execution_count": 1,
   "id": "initial_id",
   "metadata": {
    "collapsed": true,
    "ExecuteTime": {
     "end_time": "2023-11-27T21:44:51.637646500Z",
     "start_time": "2023-11-27T21:44:51.631583800Z"
    }
   },
   "outputs": [],
   "source": [
    "army_data = {\n",
    "    \"pikemen\" : {\"wood\": 50, \"clay\": 30, \"iron\": 10, \"people_needed\": 1,\"attack\":10,\"infantry_defense\":15,\"deffense_cavalry\":45,\"defense_archers\":20,\"payload\":25,\"speed\":18},\n",
    "    \"halberdiers\" : {\"wood\": 30, \"clay\": 30, \"iron\": 70, \"people_needed\": 1,\"attack\":25,\"infantry_defense\":50,\"deffense_cavalry\":15,\"defense_archers\":45,\"payload\":15,\"speed\":22},\n",
    "    \"axeman\" : {\"wood\": 60, \"clay\": 30, \"iron\": 40, \"people_needed\": 1,\"attack\":40,\"infantry_defense\":15,\"deffense_cavalry\":45,\"defense_archers\":20,\"payload\":10,\"speed\":18},\n",
    "    \"archer\" : {\"wood\": 100, \"clay\": 30, \"iron\": 60, \"people_needed\": 1,\"attack\":15,\"infantry_defense\":50,\"deffense_cavalry\":40,\"defense_archers\":5,\"payload\":10,\"speed\":18}\n",
    "}"
   ]
  },
  {
   "cell_type": "code",
   "execution_count": 2,
   "outputs": [
    {
     "data": {
      "text/plain": "{'pikemen': {'wood': 50,\n  'clay': 30,\n  'iron': 10,\n  'people_needed': 1,\n  'attack': 10,\n  'infantry_defense': 15,\n  'deffense_cavalry': 45,\n  'defense_archers': 20,\n  'payload': 25,\n  'speed': 18},\n 'halberdiers': {'wood': 30,\n  'clay': 30,\n  'iron': 70,\n  'people_needed': 1,\n  'attack': 25,\n  'infantry_defense': 50,\n  'deffense_cavalry': 15,\n  'defense_archers': 45,\n  'payload': 15,\n  'speed': 22},\n 'axeman': {'wood': 60,\n  'clay': 30,\n  'iron': 40,\n  'people_needed': 1,\n  'attack': 40,\n  'infantry_defense': 15,\n  'deffense_cavalry': 45,\n  'defense_archers': 20,\n  'payload': 10,\n  'speed': 18},\n 'archer': {'wood': 100,\n  'clay': 30,\n  'iron': 60,\n  'people_needed': 1,\n  'attack': 15,\n  'infantry_defense': 50,\n  'deffense_cavalry': 40,\n  'defense_archers': 5,\n  'payload': 10,\n  'speed': 18}}"
     },
     "execution_count": 2,
     "metadata": {},
     "output_type": "execute_result"
    }
   ],
   "source": [
    "army_data"
   ],
   "metadata": {
    "collapsed": false,
    "ExecuteTime": {
     "end_time": "2023-11-27T21:44:54.568986900Z",
     "start_time": "2023-11-27T21:44:54.558745700Z"
    }
   },
   "id": "38457902691eb2f1"
  },
  {
   "cell_type": "code",
   "execution_count": 3,
   "outputs": [
    {
     "name": "stdout",
     "output_type": "stream",
     "text": [
      "pikemen {'wood': 50, 'clay': 30, 'iron': 10, 'people_needed': 1, 'attack': 10, 'infantry_defense': 15, 'deffense_cavalry': 45, 'defense_archers': 20, 'payload': 25, 'speed': 18}\n",
      "halberdiers {'wood': 30, 'clay': 30, 'iron': 70, 'people_needed': 1, 'attack': 25, 'infantry_defense': 50, 'deffense_cavalry': 15, 'defense_archers': 45, 'payload': 15, 'speed': 22}\n",
      "axeman {'wood': 60, 'clay': 30, 'iron': 40, 'people_needed': 1, 'attack': 40, 'infantry_defense': 15, 'deffense_cavalry': 45, 'defense_archers': 20, 'payload': 10, 'speed': 18}\n",
      "archer {'wood': 100, 'clay': 30, 'iron': 60, 'people_needed': 1, 'attack': 15, 'infantry_defense': 50, 'deffense_cavalry': 40, 'defense_archers': 5, 'payload': 10, 'speed': 18}\n"
     ]
    }
   ],
   "source": [
    "for unit, data in army_data.items():\n",
    "    print(unit,data)"
   ],
   "metadata": {
    "collapsed": false,
    "ExecuteTime": {
     "end_time": "2023-11-27T21:44:57.578350400Z",
     "start_time": "2023-11-27T21:44:57.569225700Z"
    }
   },
   "id": "d2d0fe5bcddf1fa6"
  },
  {
   "cell_type": "code",
   "execution_count": 5,
   "outputs": [
    {
     "name": "stdout",
     "output_type": "stream",
     "text": [
      "pikemen\n",
      "halberdiers\n",
      "axeman\n",
      "archer\n"
     ]
    }
   ],
   "source": [
    "for unit, costs in army_data.items():\n",
    "    print(unit)"
   ],
   "metadata": {
    "collapsed": false,
    "ExecuteTime": {
     "end_time": "2023-11-27T21:45:20.323308800Z",
     "start_time": "2023-11-27T21:45:20.313273600Z"
    }
   },
   "id": "44fc5054741ddf2d"
  },
  {
   "cell_type": "code",
   "execution_count": null,
   "outputs": [],
   "source": [],
   "metadata": {
    "collapsed": false
   },
   "id": "2398f2346ac48031"
  }
 ],
 "metadata": {
  "kernelspec": {
   "display_name": "Python 3",
   "language": "python",
   "name": "python3"
  },
  "language_info": {
   "codemirror_mode": {
    "name": "ipython",
    "version": 2
   },
   "file_extension": ".py",
   "mimetype": "text/x-python",
   "name": "python",
   "nbconvert_exporter": "python",
   "pygments_lexer": "ipython2",
   "version": "2.7.6"
  }
 },
 "nbformat": 4,
 "nbformat_minor": 5
}
